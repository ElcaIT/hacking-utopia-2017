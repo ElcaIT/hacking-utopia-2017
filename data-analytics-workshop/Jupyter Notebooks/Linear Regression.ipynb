{
 "cells": [
  {
   "cell_type": "markdown",
   "metadata": {},
   "source": [
    "## Ingest data from a csv file\n",
    "\n",
    "Inspired by http://scikit-learn.org/stable/auto_examples/linear_model/plot_ols.html\n",
    "\n",
    "Original data source: https://opendata.swiss/de/dataset/anteil-2-zi-wohnungen/resource/ab5f1799-4275-47c3-a14a-ba3d9291b9fb "
   ]
  },
  {
   "cell_type": "code",
   "execution_count": 1,
   "metadata": {
    "collapsed": false
   },
   "outputs": [
    {
     "data": {
      "text/html": [
       "<div>\n",
       "<table border=\"1\" class=\"dataframe\">\n",
       "  <thead>\n",
       "    <tr style=\"text-align: right;\">\n",
       "      <th></th>\n",
       "      <th>BFS_NR</th>\n",
       "      <th>GEBIET_NAME</th>\n",
       "      <th>THEMA_NAME</th>\n",
       "      <th>SET_NAME</th>\n",
       "      <th>SUBSET_NAME</th>\n",
       "      <th>INDIKATOR_ID</th>\n",
       "      <th>INDIKATOR_NAME</th>\n",
       "      <th>INDIKATOR_JAHR</th>\n",
       "      <th>INDIKATOR_VALUE</th>\n",
       "      <th>EINHEIT_KURZ</th>\n",
       "      <th>EINHEIT_LANG</th>\n",
       "    </tr>\n",
       "  </thead>\n",
       "  <tbody>\n",
       "    <tr>\n",
       "      <th>0</th>\n",
       "      <td>1</td>\n",
       "      <td>Aeugst a.A.</td>\n",
       "      <td>Bau und Immobilien</td>\n",
       "      <td>Wohnungen, Wohnbautätigkeit</td>\n",
       "      <td>Wohnungsbestand</td>\n",
       "      <td>361</td>\n",
       "      <td>Anteil 2 Zi.-Wohnungen [%]</td>\n",
       "      <td>1990</td>\n",
       "      <td>9.0</td>\n",
       "      <td>%</td>\n",
       "      <td>Prozent</td>\n",
       "    </tr>\n",
       "    <tr>\n",
       "      <th>1</th>\n",
       "      <td>1</td>\n",
       "      <td>Aeugst a.A.</td>\n",
       "      <td>Bau und Immobilien</td>\n",
       "      <td>Wohnungen, Wohnbautätigkeit</td>\n",
       "      <td>Wohnungsbestand</td>\n",
       "      <td>361</td>\n",
       "      <td>Anteil 2 Zi.-Wohnungen [%]</td>\n",
       "      <td>1991</td>\n",
       "      <td>8.9</td>\n",
       "      <td>%</td>\n",
       "      <td>Prozent</td>\n",
       "    </tr>\n",
       "    <tr>\n",
       "      <th>2</th>\n",
       "      <td>1</td>\n",
       "      <td>Aeugst a.A.</td>\n",
       "      <td>Bau und Immobilien</td>\n",
       "      <td>Wohnungen, Wohnbautätigkeit</td>\n",
       "      <td>Wohnungsbestand</td>\n",
       "      <td>361</td>\n",
       "      <td>Anteil 2 Zi.-Wohnungen [%]</td>\n",
       "      <td>1992</td>\n",
       "      <td>8.7</td>\n",
       "      <td>%</td>\n",
       "      <td>Prozent</td>\n",
       "    </tr>\n",
       "    <tr>\n",
       "      <th>3</th>\n",
       "      <td>1</td>\n",
       "      <td>Aeugst a.A.</td>\n",
       "      <td>Bau und Immobilien</td>\n",
       "      <td>Wohnungen, Wohnbautätigkeit</td>\n",
       "      <td>Wohnungsbestand</td>\n",
       "      <td>361</td>\n",
       "      <td>Anteil 2 Zi.-Wohnungen [%]</td>\n",
       "      <td>1993</td>\n",
       "      <td>8.6</td>\n",
       "      <td>%</td>\n",
       "      <td>Prozent</td>\n",
       "    </tr>\n",
       "    <tr>\n",
       "      <th>4</th>\n",
       "      <td>1</td>\n",
       "      <td>Aeugst a.A.</td>\n",
       "      <td>Bau und Immobilien</td>\n",
       "      <td>Wohnungen, Wohnbautätigkeit</td>\n",
       "      <td>Wohnungsbestand</td>\n",
       "      <td>361</td>\n",
       "      <td>Anteil 2 Zi.-Wohnungen [%]</td>\n",
       "      <td>1994</td>\n",
       "      <td>8.5</td>\n",
       "      <td>%</td>\n",
       "      <td>Prozent</td>\n",
       "    </tr>\n",
       "  </tbody>\n",
       "</table>\n",
       "</div>"
      ],
      "text/plain": [
       "   BFS_NR  GEBIET_NAME          THEMA_NAME                     SET_NAME  \\\n",
       "0       1  Aeugst a.A.  Bau und Immobilien  Wohnungen, Wohnbautätigkeit   \n",
       "1       1  Aeugst a.A.  Bau und Immobilien  Wohnungen, Wohnbautätigkeit   \n",
       "2       1  Aeugst a.A.  Bau und Immobilien  Wohnungen, Wohnbautätigkeit   \n",
       "3       1  Aeugst a.A.  Bau und Immobilien  Wohnungen, Wohnbautätigkeit   \n",
       "4       1  Aeugst a.A.  Bau und Immobilien  Wohnungen, Wohnbautätigkeit   \n",
       "\n",
       "       SUBSET_NAME  INDIKATOR_ID              INDIKATOR_NAME  INDIKATOR_JAHR  \\\n",
       "0  Wohnungsbestand           361  Anteil 2 Zi.-Wohnungen [%]            1990   \n",
       "1  Wohnungsbestand           361  Anteil 2 Zi.-Wohnungen [%]            1991   \n",
       "2  Wohnungsbestand           361  Anteil 2 Zi.-Wohnungen [%]            1992   \n",
       "3  Wohnungsbestand           361  Anteil 2 Zi.-Wohnungen [%]            1993   \n",
       "4  Wohnungsbestand           361  Anteil 2 Zi.-Wohnungen [%]            1994   \n",
       "\n",
       "   INDIKATOR_VALUE EINHEIT_KURZ EINHEIT_LANG  \n",
       "0              9.0            %      Prozent  \n",
       "1              8.9            %      Prozent  \n",
       "2              8.7            %      Prozent  \n",
       "3              8.6            %      Prozent  \n",
       "4              8.5            %      Prozent  "
      ]
     },
     "execution_count": 1,
     "metadata": {},
     "output_type": "execute_result"
    }
   ],
   "source": [
    "import pandas as pd\n",
    "\n",
    "data = pd.read_csv('../api/data/KANTON_ZUERICH_361.csv', encoding='ANSI')\n",
    "\n",
    "data.head()"
   ]
  },
  {
   "cell_type": "markdown",
   "metadata": {},
   "source": [
    "## Filter data where BFS_NR == Knonau"
   ]
  },
  {
   "cell_type": "code",
   "execution_count": 2,
   "metadata": {
    "collapsed": false
   },
   "outputs": [],
   "source": [
    "filtered_data = data[data['GEBIET_NAME'] == 'Knonau']"
   ]
  },
  {
   "cell_type": "code",
   "execution_count": 3,
   "metadata": {
    "collapsed": false
   },
   "outputs": [
    {
     "data": {
      "image/png": "[encoded data removed]",
      "text/plain": [
       "<matplotlib.figure.Figure at 0x3018f70cc0>"
      ]
     },
     "metadata": {},
     "output_type": "display_data"
    }
   ],
   "source": [
    "import matplotlib.pyplot as plt\n",
    "\n",
    "plt.scatter(x=filtered_data['INDIKATOR_JAHR'], y=filtered_data['INDIKATOR_VALUE'], color='black')\n",
    "\n",
    "# Or using\n",
    "#filtered_data.plot(x='INDIKATOR_JAHR', y='INDIKATOR_VALUE', style='k.')\n",
    "\n",
    "plt.show()"
   ]
  },
  {
   "cell_type": "markdown",
   "metadata": {},
   "source": [
    "## Learn a regression model"
   ]
  },
  {
   "cell_type": "markdown",
   "metadata": {},
   "source": [
    "### Remove points from the history"
   ]
  },
  {
   "cell_type": "code",
   "execution_count": 5,
   "metadata": {
    "collapsed": false
   },
   "outputs": [
    {
     "name": "stdout",
     "output_type": "stream",
     "text": [
      "Years removed (for testing): [1994, 2007, 2014]\n",
      "Years (for training): [1990, 1991, 1992, 1993, 1995, 1996, 1997, 1998, 1999, 2000, 2001, 2002, 2003, 2004, 2005, 2006, 2008, 2009, 2010, 2011, 2012, 2013, 2015]\n"
     ]
    }
   ],
   "source": [
    "years_removed = [1994, 2007, 2014]\n",
    "years = [year for year in filtered_data['INDIKATOR_JAHR'] if year not in years_removed] #1990 - 2015\n",
    "\n",
    "print(\"Years removed (for testing):\" , years_removed)\n",
    "print(\"Years (for training):\" , years)"
   ]
  },
  {
   "cell_type": "code",
   "execution_count": 6,
   "metadata": {
    "collapsed": false
   },
   "outputs": [
    {
     "data": {
      "image/png": "[encoded data removed]",
      "text/plain": [
       "<matplotlib.figure.Figure at 0x301a71c6a0>"
      ]
     },
     "metadata": {},
     "output_type": "display_data"
    }
   ],
   "source": [
    "# Construct the features\n",
    "X_train = [[year] for year in years ]\n",
    "X_test = [[year] for year in years_removed]\n",
    "\n",
    "# Construct the labels\n",
    "Y_train = filtered_data[~filtered_data['INDIKATOR_JAHR'].isin(years_removed)]['INDIKATOR_VALUE']\n",
    "Y_test = filtered_data[filtered_data['INDIKATOR_JAHR'].isin(years_removed)]['INDIKATOR_VALUE']\n",
    "\n",
    "# Show the training data\n",
    "plt.scatter(x=years, y=Y_train, color='black')\n",
    "plt.xlabel('Year')\n",
    "plt.ylabel('Value indicator')\n",
    "plt.show()"
   ]
  },
  {
   "cell_type": "markdown",
   "metadata": {},
   "source": [
    "### Learn the model"
   ]
  },
  {
   "cell_type": "code",
   "execution_count": 7,
   "metadata": {
    "collapsed": false
   },
   "outputs": [
    {
     "data": {
      "text/plain": [
       "LinearRegression(copy_X=True, fit_intercept=True, n_jobs=1, normalize=False)"
      ]
     },
     "execution_count": 7,
     "metadata": {},
     "output_type": "execute_result"
    }
   ],
   "source": [
    "from sklearn import linear_model\n",
    "\n",
    "regr = linear_model.LinearRegression()\n",
    "regr.fit(X_train, Y_train)"
   ]
  },
  {
   "cell_type": "code",
   "execution_count": 8,
   "metadata": {
    "collapsed": false
   },
   "outputs": [],
   "source": [
    "Y_pred = regr.predict(X_train)"
   ]
  },
  {
   "cell_type": "code",
   "execution_count": 9,
   "metadata": {
    "collapsed": false
   },
   "outputs": [
    {
     "data": {
      "image/png": "[encoded data removed]",
      "text/plain": [
       "<matplotlib.figure.Figure at 0x301b7cdc18>"
      ]
     },
     "metadata": {},
     "output_type": "display_data"
    }
   ],
   "source": [
    "plt.scatter(x=years, y=Y_train, color='black')\n",
    "plt.plot(years, Y_pred, color='blue', linewidth=3)\n",
    "plt.xlabel('Year')\n",
    "plt.ylabel('Value indicator')\n",
    "plt.show()"
   ]
  },
  {
   "cell_type": "code",
   "execution_count": 10,
   "metadata": {
    "collapsed": false
   },
   "outputs": [
    {
     "name": "stdout",
     "output_type": "stream",
     "text": [
      "Coefficients:  [-0.21995284]\n"
     ]
    }
   ],
   "source": [
    "print('Coefficients: ', regr.coef_)"
   ]
  },
  {
   "cell_type": "markdown",
   "metadata": {},
   "source": [
    "   ### Predict for the years removed"
   ]
  },
  {
   "cell_type": "code",
   "execution_count": 11,
   "metadata": {
    "collapsed": false
   },
   "outputs": [
    {
     "name": "stdout",
     "output_type": "stream",
     "text": [
      "[11.450049274954267, 8.5906623961706146, 7.0509925383640848]\n"
     ]
    }
   ],
   "source": [
    "Y_pred = [regr.predict(year)[0] for year in years_removed]\n",
    "print(Y_pred)"
   ]
  },
  {
   "cell_type": "code",
   "execution_count": 14,
   "metadata": {
    "collapsed": false
   },
   "outputs": [
    {
     "data": {
      "image/png": "[encoded data removed]",
      "text/plain": [
       "<matplotlib.figure.Figure at 0x301b8979e8>"
      ]
     },
     "metadata": {},
     "output_type": "display_data"
    }
   ],
   "source": [
    "plt.scatter(x=years, y=Y_train, color='black')\n",
    "plt.scatter(x=years_removed, y=Y_pred, color='orange')\n",
    "plt.scatter(x=X_test, y=Y_test, color='green')\n",
    "plt.show()"
   ]
  },
  {
   "cell_type": "markdown",
   "metadata": {},
   "source": [
    "## Predict for 2016"
   ]
  },
  {
   "cell_type": "code",
   "execution_count": 15,
   "metadata": {
    "collapsed": false
   },
   "outputs": [
    {
     "name": "stdout",
     "output_type": "stream",
     "text": [
      "[ 6.61108686]\n"
     ]
    }
   ],
   "source": [
    "indikator_2016 = regr.predict(2016)\n",
    "print(indikator_2016)"
   ]
  },
  {
   "cell_type": "markdown",
   "metadata": {},
   "source": [
    "## Evaluating the model"
   ]
  },
  {
   "cell_type": "code",
   "execution_count": 16,
   "metadata": {
    "collapsed": false
   },
   "outputs": [
    {
     "name": "stdout",
     "output_type": "stream",
     "text": [
      "Mean squared error: 0.58\n",
      "Variance score: 0.86\n"
     ]
    }
   ],
   "source": [
    "from sklearn.metrics import mean_squared_error, r2_score\n",
    "\n",
    "print(\"Mean squared error: %.2f\" % mean_squared_error(Y_test, Y_pred))\n",
    "print(\"Variance score: %.2f\" % r2_score(Y_test, Y_pred))"
   ]
  },
  {
   "cell_type": "code",
   "execution_count": null,
   "metadata": {
    "collapsed": true
   },
   "outputs": [],
   "source": []
  }
 ],
 "metadata": {
  "kernelspec": {
   "display_name": "Python 3",
   "language": "python",
   "name": "python3"
  },
  "language_info": {
   "codemirror_mode": {
    "name": "ipython",
    "version": 3
   },
   "file_extension": ".py",
   "mimetype": "text/x-python",
   "name": "python",
   "nbconvert_exporter": "python",
   "pygments_lexer": "ipython3",
   "version": "3.6.0"
  }
 },
 "nbformat": 4,
 "nbformat_minor": 2
}
